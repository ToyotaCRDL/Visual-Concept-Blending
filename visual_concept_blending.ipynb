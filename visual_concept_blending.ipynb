{
 "cells": [
  {
   "cell_type": "code",
   "execution_count": null,
   "metadata": {},
   "outputs": [],
   "source": [
    "import ipywidgets as widgets\n",
    "from IPython.display import display\n",
    "from io import BytesIO\n",
    "from PIL import Image\n",
    "\n",
    "from visual_concept_blending import VisualConceptBlending"
   ]
  },
  {
   "cell_type": "code",
   "execution_count": null,
   "metadata": {},
   "outputs": [],
   "source": [
    "class ImageUploader:\n",
    "    def __init__(self, multiple=True):\n",
    "        self.upload_widget = widgets.FileUpload(accept='image/*', multiple=multiple)\n",
    "        self.output = widgets.Output()\n",
    "        self.uploaded_images = []\n",
    "        self.upload_widget.observe(self.on_upload_change, names='value')\n",
    "    \n",
    "    def on_upload_change(self, change):\n",
    "        self.output.clear_output(wait=True)\n",
    "        self.uploaded_images.clear()\n",
    "        for file_info in change['new']:\n",
    "            image_data = BytesIO(file_info['content'])\n",
    "            image = Image.open(image_data).resize((512, 512))\n",
    "            self.uploaded_images.append(image)\n",
    "            with self.output:\n",
    "                display(image)\n",
    "    \n",
    "    def display(self):\n",
    "        display(self.upload_widget, self.output)\n",
    "    \n",
    "    def get_uploaded_images(self):\n",
    "        return self.uploaded_images"
   ]
  },
  {
   "cell_type": "markdown",
   "metadata": {},
   "source": [
    "## Load Source Image (Use 1 or 2)\n",
    "### 1. Load by Specifying Path"
   ]
  },
  {
   "cell_type": "code",
   "execution_count": null,
   "metadata": {},
   "outputs": [],
   "source": [
    "src_img_path = \"<path>\"\n",
    "src_img = Image.open(src_img_path).convert('RGB').resize((512, 512))"
   ]
  },
  {
   "cell_type": "markdown",
   "metadata": {},
   "source": [
    "### 2. Load by Drag and Drop"
   ]
  },
  {
   "cell_type": "code",
   "execution_count": null,
   "metadata": {},
   "outputs": [],
   "source": [
    "image_uploader = ImageUploader(multiple=True)\n",
    "image_uploader.display()\n",
    "\n",
    "results = image_uploader.get_uploaded_images()"
   ]
  },
  {
   "cell_type": "code",
   "execution_count": null,
   "metadata": {},
   "outputs": [],
   "source": [
    "src_img = results[0].convert('RGB').resize((512, 512))"
   ]
  },
  {
   "cell_type": "markdown",
   "metadata": {},
   "source": [
    "## Load Reference Images (Use 1 or 2)\n",
    "### 1. Load by Specifying Path"
   ]
  },
  {
   "cell_type": "code",
   "execution_count": null,
   "metadata": {},
   "outputs": [],
   "source": [
    "ref_imgs_paths = [\"<path1>\", \"<path2>\"] # two or more paths to reference images\n",
    "\n",
    "ref_imgs = [\n",
    "    Image.open(p).convert('RGB').resize((512, 512))\n",
    "    for p in ref_imgs_paths\n",
    "]"
   ]
  },
  {
   "cell_type": "markdown",
   "metadata": {},
   "source": [
    "### 2. Load by Drag and Drop"
   ]
  },
  {
   "cell_type": "code",
   "execution_count": null,
   "metadata": {},
   "outputs": [],
   "source": [
    "image_uploader = ImageUploader(multiple=True)\n",
    "image_uploader.display()\n",
    "\n",
    "results = image_uploader.get_uploaded_images()"
   ]
  },
  {
   "cell_type": "code",
   "execution_count": null,
   "metadata": {},
   "outputs": [],
   "source": [
    "ref_imgs = [\n",
    "    results[i].convert('RGB').resize((512, 512))\n",
    "    for i in range(len(results))\n",
    "]"
   ]
  },
  {
   "cell_type": "markdown",
   "metadata": {},
   "source": [
    "## Generate Images"
   ]
  },
  {
   "cell_type": "code",
   "execution_count": null,
   "metadata": {},
   "outputs": [],
   "source": [
    "common = True\n",
    "ip = VisualConceptBlending(common=common)\n",
    "theta = 0.3\n",
    "depth_scale = 0.0\n",
    "SEED = 168\n",
    "\n",
    "output_img, depth_map = ip.run(src_img, ref_imgs, seed=SEED, theta=theta, num_samples=1, depth_scale=depth_scale)\n",
    "output_img = output_img[0].resize((512, 512))\n",
    "\n",
    "output_img"
   ]
  }
 ],
 "metadata": {
  "kernelspec": {
   "display_name": "Python 3 (ipykernel)",
   "language": "python",
   "name": "python3"
  },
  "language_info": {
   "codemirror_mode": {
    "name": "ipython",
    "version": 3
   },
   "file_extension": ".py",
   "mimetype": "text/x-python",
   "name": "python",
   "nbconvert_exporter": "python",
   "pygments_lexer": "ipython3",
   "version": "3.11.11"
  }
 },
 "nbformat": 4,
 "nbformat_minor": 4
}
